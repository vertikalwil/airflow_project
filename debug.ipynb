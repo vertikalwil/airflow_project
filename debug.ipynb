{
 "cells": [
  {
   "cell_type": "code",
   "execution_count": 3,
   "metadata": {},
   "outputs": [],
   "source": [
    "import pandas as pd\n",
    "import ast"
   ]
  },
  {
   "cell_type": "code",
   "execution_count": 8,
   "metadata": {},
   "outputs": [],
   "source": [
    "\n",
    "def data_transform():\n",
    "    df = pd.read_csv('data_csv/tangerang.csv')\n",
    "    df = df[~(df.spesifikasi =='spesifikasi')]\n",
    "    df['spesifikasi'] = df.spesifikasi.apply(ast.literal_eval)\n",
    "    df = df.explode('spesifikasi')\n",
    "\n",
    "    df['keterangan'] = df.spesifikasi.str[0]\n",
    "    df['qty'] = df.spesifikasi.str[1]\n",
    "\n",
    "    df_columns = df[['harga','alamat','fasilitas']].reset_index().drop_duplicates('index').set_index('index')\n",
    "    df_pivot = df.pivot(columns='keterangan', values='qty').rename_axis(None, axis=1)\n",
    "    df = pd.concat([df_columns, df_pivot], axis = 1)\n",
    "    df.columns = df.columns.map(replace)\n",
    "\n",
    "    return df"
   ]
  },
  {
   "cell_type": "code",
   "execution_count": 9,
   "metadata": {},
   "outputs": [],
   "source": [
    "\n",
    "a = data_transform()"
   ]
  },
  {
   "cell_type": "code",
   "execution_count": 12,
   "metadata": {},
   "outputs": [],
   "source": [
    "def replace_spaces_with_underscores(column_name):\n",
    "    return column_name.replace(' ', '_')"
   ]
  },
  {
   "cell_type": "code",
   "execution_count": 13,
   "metadata": {},
   "outputs": [],
   "source": [
    "a.columns = a.columns.map(replace_spaces_with_underscores)"
   ]
  },
  {
   "cell_type": "code",
   "execution_count": 15,
   "metadata": {},
   "outputs": [
    {
     "data": {
      "text/plain": [
       "Index(['harga', 'alamat', 'fasilitas', 'Carport', 'Dapur', 'Daya_Listrik',\n",
       "       'Garasi', 'Hadap', 'Hook', 'ID_Iklan', 'Jumlah_Lantai', 'Kamar_Mandi',\n",
       "       'Kamar_Mandi_Pembantu', 'Kamar_Pembantu', 'Kamar_Tidur',\n",
       "       'Kondisi_Perabotan', 'Kondisi_Properti', 'Konsep_dan_Gaya_Rumah',\n",
       "       'Lebar_Jalan', 'Luas_Bangunan', 'Luas_Tanah', 'Material_Bangunan',\n",
       "       'Material_Lantai', 'Pemandangan', 'Ruang_Makan', 'Ruang_Tamu',\n",
       "       'Sertifikat', 'Sumber_Air', 'Tahun_Di_Renovasi', 'Tahun_Dibangun',\n",
       "       'Terjangkau_Internet', 'Tipe_Properti'],\n",
       "      dtype='object')"
      ]
     },
     "execution_count": 15,
     "metadata": {},
     "output_type": "execute_result"
    }
   ],
   "source": [
    "a.columns"
   ]
  },
  {
   "cell_type": "code",
   "execution_count": null,
   "metadata": {},
   "outputs": [],
   "source": []
  }
 ],
 "metadata": {
  "kernelspec": {
   "display_name": "Python 3",
   "language": "python",
   "name": "python3"
  },
  "language_info": {
   "codemirror_mode": {
    "name": "ipython",
    "version": 3
   },
   "file_extension": ".py",
   "mimetype": "text/x-python",
   "name": "python",
   "nbconvert_exporter": "python",
   "pygments_lexer": "ipython3",
   "version": "3.11.0"
  }
 },
 "nbformat": 4,
 "nbformat_minor": 2
}
